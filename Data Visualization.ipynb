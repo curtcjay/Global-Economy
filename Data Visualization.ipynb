{
 "cells": [
  {
   "cell_type": "markdown",
   "metadata": {},
   "source": [
    "Data Visualization\n",
    "---\n"
   ]
  },
  {
   "cell_type": "code",
   "execution_count": 22,
   "metadata": {
    "collapsed": true
   },
   "outputs": [],
   "source": [
    "import numpy as np\n",
    "import pandas as pd\n",
    "import pandas.io.data as web\n",
    "import matplotlib.pyplot as plt"
   ]
  },
  {
   "cell_type": "markdown",
   "metadata": {},
   "source": [
    "- Let's start with a simple example"
   ]
  },
  {
   "cell_type": "code",
   "execution_count": 23,
   "metadata": {
    "collapsed": false
   },
   "outputs": [],
   "source": [
    "y = ([1,2,3,4])\n",
    "plt.plot(y)\n",
    "plt.ylabel('y-axis')\n",
    "plt.xlabel('x-axis')\n",
    "plt.show()"
   ]
  },
  {
   "cell_type": "markdown",
   "metadata": {},
   "source": [
    "- Why does the figure start at $y=1$ and $x=0$?"
   ]
  },
  {
   "cell_type": "markdown",
   "metadata": {},
   "source": [
    "- The $.plot()$ command can take an arbitrary number of arguments, for example, to plot $x$ versus $y$, we would use the following command:"
   ]
  },
  {
   "cell_type": "code",
   "execution_count": 24,
   "metadata": {
    "collapsed": true
   },
   "outputs": [],
   "source": [
    "x = [1,2,3,4]\n",
    "y = [1,4,9,20]\n",
    "\n",
    "plt.plot(x,y,'ro')\n",
    "plt.show()"
   ]
  },
  {
   "cell_type": "markdown",
   "metadata": {},
   "source": [
    "- Sometimes the axes cuts off the beginning and ending point so we can specifically define the axis lengths"
   ]
  },
  {
   "cell_type": "code",
   "execution_count": 25,
   "metadata": {
    "collapsed": false
   },
   "outputs": [],
   "source": [
    "plt.plot(x,y,'ro')\n",
    "plt.axis([0,5,0,21])\n",
    "plt.show()"
   ]
  },
  {
   "cell_type": "markdown",
   "metadata": {},
   "source": [
    "- The $.axis()$ command is the generalized command for defining the domain and range of your figure\n",
    "- It takes a list, with the order $[  xmin,   xmax,   ymin,   ymax]$\n",
    "- We can also specifically set the domain and range using the $.xlim()$ and $.ylim()$ commands"
   ]
  },
  {
   "cell_type": "code",
   "execution_count": 26,
   "metadata": {
    "collapsed": true
   },
   "outputs": [],
   "source": [
    "plt.plot(x,y,'bo')\n",
    "plt.xlim([0,5])\n",
    "plt.ylim([0,21])\n",
    "plt.show()"
   ]
  },
  {
   "cell_type": "markdown",
   "metadata": {},
   "source": [
    "- In general you will be working with arrays, matplotlib automatically converts your data into an array in the backend \n",
    "- The following example shows how to plot several lines with different formatting styles "
   ]
  },
  {
   "cell_type": "code",
   "execution_count": 27,
   "metadata": {
    "collapsed": false
   },
   "outputs": [],
   "source": [
    "t = np.linspace(0,50,100)"
   ]
  },
  {
   "cell_type": "markdown",
   "metadata": {},
   "source": [
    "- Here we are going to use red dashes, blue squares, and green triangles"
   ]
  },
  {
   "cell_type": "code",
   "execution_count": 28,
   "metadata": {
    "collapsed": false
   },
   "outputs": [],
   "source": [
    "plt.plot(t, t, 'r--', label='linear')\n",
    "plt.plot(t, t**2, 'bs', label='squared')\n",
    "plt.plot(t, t**3, 'g^',label ='cubed')\n",
    "plt.legend(loc=0)\n",
    "plt.show()"
   ]
  },
  {
   "cell_type": "markdown",
   "metadata": {},
   "source": [
    "Working with Multiple figures and axes\n",
    "---"
   ]
  },
  {
   "cell_type": "markdown",
   "metadata": {},
   "source": [
    "- Here is a simple way to create subplots, lets try three\n",
    "- Here we are using the $.DataReader()$ command to scrape data from fred (make sure you have internet connection or this wont work!)"
   ]
  },
  {
   "cell_type": "code",
   "execution_count": 29,
   "metadata": {
    "collapsed": false
   },
   "outputs": [],
   "source": [
    "start = '01/01/1960'\n",
    "end   = '01/01/2013' \n",
    "\n",
    "gdp = web.DataReader('GDPC1'  , 'fred', start, end)\n",
    "con = web.DataReader('PCECC96', 'fred', start, end)\n",
    "inv = web.DataReader('GPDIC96', 'fred', start, end)\n",
    "\n",
    "time = gdp.index"
   ]
  },
  {
   "cell_type": "code",
   "execution_count": 30,
   "metadata": {
    "collapsed": false
   },
   "outputs": [],
   "source": [
    "plt.figure(1)\n",
    "\n",
    "plt.subplot(3,1,1)\n",
    "plt.plot(time, gdp, 'k', label= 'GDP')\n",
    "plt.legend(loc= 4)\n",
    "\n",
    "plt.subplot(3,1,2)\n",
    "plt.plot(time, con, 'b', label= 'Consumption')\n",
    "plt.legend(loc=4)\n",
    "\n",
    "plt.subplot(3,1,3)\n",
    "plt.plot(time, inv, 'r', label= 'Investment')\n",
    "plt.legend(loc=4)\n",
    "\n",
    "plt.tight_layout()\n",
    "plt.show()"
   ]
  },
  {
   "cell_type": "markdown",
   "metadata": {},
   "source": [
    "- Here the $.tightlayout()$ command makes sure that your subplots are evenly spaced\n",
    "- Also the $.legend()$ command creates a legend for your data if you have specified a label \n",
    "- But what if we wanted consumption and investment on the same figure?\n",
    "- For this it would be useful to use an Object-Oriented approach using the $.twinx()$ command"
   ]
  },
  {
   "cell_type": "code",
   "execution_count": 31,
   "metadata": {
    "collapsed": false
   },
   "outputs": [],
   "source": [
    "fig, ax1 = plt.subplots()\n",
    "\n",
    "ax1.plot(time, con, 'b-')\n",
    "ax1.set_xlabel('Time')\n",
    "\n",
    "# Make the y-axis label and tick labels match the line color.\n",
    "ax1.set_ylabel('Consumption', color='b')\n",
    "for tick in ax1.get_yticklabels():\n",
    "    tick.set_color('b')\n",
    "\n",
    "\n",
    "ax2 = ax1.twinx()\n",
    "ax2.plot(time, inv, 'r-')\n",
    "\n",
    "\n",
    "ax2.set_ylabel('Investment', color='r')\n",
    "for tick in ax2.get_yticklabels():\n",
    "    tick.set_color('r')\n",
    "\n",
    "plt.show()"
   ]
  },
  {
   "cell_type": "markdown",
   "metadata": {},
   "source": [
    "- Or we can calculate the growth rate and plot them all together"
   ]
  },
  {
   "cell_type": "code",
   "execution_count": 32,
   "metadata": {
    "collapsed": false
   },
   "outputs": [],
   "source": [
    "gdp_y = gdp.asfreq('AS', how='start')\n",
    "con_y = con.asfreq('AS', how='start')\n",
    "inv_y = inv.asfreq('AS', how='start')\n",
    "\n",
    "\n",
    "Gdp_growth = gdp_y.pct_change()\n",
    "Con_growth = con_y.pct_change()\n",
    "Inv_growth = inv_y.pct_change()\n",
    "\n",
    "time = gdp_y.index\n",
    "\n",
    "plt.plot(time,Gdp_growth, color= 'black', label = 'GDP growth')\n",
    "plt.plot(time,Con_growth, color= 'red', label = 'Consumption growth')\n",
    "plt.plot(time,Inv_growth, color= 'green', label = 'Investment growth')\n",
    "plt.ylabel('Year-on-Year Growth Rate')\n",
    "plt.legend()\n",
    "plt.show()"
   ]
  },
  {
   "cell_type": "markdown",
   "metadata": {},
   "source": [
    "Importing data from Excel and working with text\n",
    "---\n",
    "- It is surprisingly simple with pandas .read_excel() command"
   ]
  },
  {
   "cell_type": "code",
   "execution_count": 33,
   "metadata": {
    "collapsed": false
   },
   "outputs": [
    {
     "data": {
      "text/html": [
       "<div>\n",
       "<table border=\"1\" class=\"dataframe\">\n",
       "  <thead>\n",
       "    <tr style=\"text-align: right;\">\n",
       "      <th></th>\n",
       "      <th>Country</th>\n",
       "      <th>c_code</th>\n",
       "      <th>continent</th>\n",
       "      <th>Non-oil</th>\n",
       "      <th>Intermediate Sample</th>\n",
       "      <th>oecd</th>\n",
       "      <th>gdp60</th>\n",
       "      <th>gdp85</th>\n",
       "      <th>popgrowth</th>\n",
       "      <th>igdp</th>\n",
       "      <th>school</th>\n",
       "    </tr>\n",
       "  </thead>\n",
       "  <tbody>\n",
       "    <tr>\n",
       "      <th>1</th>\n",
       "      <td>Algeria</td>\n",
       "      <td>DZA</td>\n",
       "      <td>Africa</td>\n",
       "      <td>Non-oil</td>\n",
       "      <td>Intermediate Sample</td>\n",
       "      <td>Non-OECD</td>\n",
       "      <td>2485</td>\n",
       "      <td>4371</td>\n",
       "      <td>2.6</td>\n",
       "      <td>24.100000</td>\n",
       "      <td>4.5</td>\n",
       "    </tr>\n",
       "    <tr>\n",
       "      <th>2</th>\n",
       "      <td>Angola</td>\n",
       "      <td>AGO</td>\n",
       "      <td>Africa</td>\n",
       "      <td>Non-oil</td>\n",
       "      <td>Not intermediate sample</td>\n",
       "      <td>Non-OECD</td>\n",
       "      <td>1588</td>\n",
       "      <td>1171</td>\n",
       "      <td>2.1</td>\n",
       "      <td>5.800000</td>\n",
       "      <td>1.8</td>\n",
       "    </tr>\n",
       "    <tr>\n",
       "      <th>3</th>\n",
       "      <td>Benin</td>\n",
       "      <td>BEN</td>\n",
       "      <td>Africa</td>\n",
       "      <td>Non-oil</td>\n",
       "      <td>Not intermediate sample</td>\n",
       "      <td>Non-OECD</td>\n",
       "      <td>1116</td>\n",
       "      <td>1071</td>\n",
       "      <td>2.4</td>\n",
       "      <td>10.800000</td>\n",
       "      <td>1.8</td>\n",
       "    </tr>\n",
       "    <tr>\n",
       "      <th>4</th>\n",
       "      <td>Botswana</td>\n",
       "      <td>BWA</td>\n",
       "      <td>Africa</td>\n",
       "      <td>Non-oil</td>\n",
       "      <td>Intermediate Sample</td>\n",
       "      <td>Non-OECD</td>\n",
       "      <td>959</td>\n",
       "      <td>3671</td>\n",
       "      <td>3.2</td>\n",
       "      <td>28.299999</td>\n",
       "      <td>2.9</td>\n",
       "    </tr>\n",
       "    <tr>\n",
       "      <th>5</th>\n",
       "      <td>Burkina Faso</td>\n",
       "      <td>BFA</td>\n",
       "      <td>Africa</td>\n",
       "      <td>Non-oil</td>\n",
       "      <td>Not intermediate sample</td>\n",
       "      <td>Non-OECD</td>\n",
       "      <td>529</td>\n",
       "      <td>857</td>\n",
       "      <td>0.9</td>\n",
       "      <td>12.700000</td>\n",
       "      <td>0.4</td>\n",
       "    </tr>\n",
       "  </tbody>\n",
       "</table>\n",
       "</div>"
      ],
      "text/plain": [
       "        Country c_code continent  Non-oil      Intermediate Sample      oecd  \\\n",
       "1       Algeria    DZA    Africa  Non-oil      Intermediate Sample  Non-OECD   \n",
       "2        Angola    AGO    Africa  Non-oil  Not intermediate sample  Non-OECD   \n",
       "3         Benin    BEN    Africa  Non-oil  Not intermediate sample  Non-OECD   \n",
       "4      Botswana    BWA    Africa  Non-oil      Intermediate Sample  Non-OECD   \n",
       "5  Burkina Faso    BFA    Africa  Non-oil  Not intermediate sample  Non-OECD   \n",
       "\n",
       "   gdp60  gdp85  popgrowth       igdp  school  \n",
       "1   2485   4371        2.6  24.100000     4.5  \n",
       "2   1588   1171        2.1   5.800000     1.8  \n",
       "3   1116   1071        2.4  10.800000     1.8  \n",
       "4    959   3671        3.2  28.299999     2.9  \n",
       "5    529    857        0.9  12.700000     0.4  "
      ]
     },
     "execution_count": 33,
     "metadata": {},
     "output_type": "execute_result"
    }
   ],
   "source": [
    "mrw = pd.read_excel('mrw.xls')\n",
    "mrw.head()"
   ]
  },
  {
   "cell_type": "markdown",
   "metadata": {},
   "source": [
    "- It's very important to look at your data! The most basic univarite plot is a histogram. Pandas has a lot of built-in methods for plotting using matplotlib. You can always create graphics using the standard matplotlib commands."
   ]
  },
  {
   "cell_type": "code",
   "execution_count": 34,
   "metadata": {
    "collapsed": false
   },
   "outputs": [],
   "source": [
    "fig = plt.figure()\n",
    "\n",
    "# use pandas built-in method to create the histogram\n",
    "ax = mrw['school'].hist(color='yellow', normed=True, alpha = 0.5)\n",
    "\n",
    "# add labels and a title\n",
    "ax.set_xlabel('Average Enrollment')\n",
    "ax.set_ylabel('Density')\n",
    "ax.set_title('Histogram of Average School Enrollment')\n",
    "\n",
    "plt.show()"
   ]
  },
  {
   "cell_type": "markdown",
   "metadata": {},
   "source": [
    "- A good way to compare subsets of data is a box plot.  A box plot will display boxes bordered at the 25<sup>th</sup> and 75<sup>th</sup> percentiles of the variable with a median line at the 50<sup>th</sup> percentile.  Box plots also have whiskers which, typically, extend 1.5 times the IQR beyond the 2<sup>nd</sup> and 3<sup>rd</sup> quartiles. \n",
    "- Here we use the $.text()$ command to add some text to our figure, this command has many options.\n"
   ]
  },
  {
   "cell_type": "code",
   "execution_count": 14,
   "metadata": {
    "collapsed": false
   },
   "outputs": [],
   "source": [
    "fig = plt.figure()\n",
    "\n",
    "ax = mrw[['continent', 'igdp']].boxplot(by='continent')\n",
    "ax.set_xlabel('')\n",
    "ax.set_xticklabels(['Africa', 'Asia', 'Europe', 'N. America', 'S. America', 'Oceania'])\n",
    "ax.set_ylabel('Investment (% of GDP)')\n",
    "ax.set_title('Investment Boxplot')\n",
    "ax.text(1.6,1,'Why are European investment rates so high?')\n",
    "\n",
    "plt.show()"
   ]
  },
  {
   "cell_type": "markdown",
   "metadata": {},
   "source": [
    "- We are also interested in how variables relate to one another. The most basic bivariate data view is the scatterplot. To see how real GDP per worker in 1985 relates to average population growth in the previous 25 years...\n",
    "- Here we are also going to use the $.annotate()$ command to annotate our figure"
   ]
  },
  {
   "cell_type": "code",
   "execution_count": 15,
   "metadata": {
    "collapsed": false
   },
   "outputs": [],
   "source": [
    "fig = plt.figure()\n",
    "ax = fig.add_subplot(111)\n",
    "\n",
    "X = mrw.gdp60.values\n",
    "Y = mrw.gdp85.values\n",
    "\n",
    "ax.scatter(X, Y, )\n",
    "ax.set_xlim(0, 80000)\n",
    "ax.set_xlabel('real GDP per worker (1960)')\n",
    "ax.set_ylim(0, 30000)\n",
    "ax.set_ylabel('real GDP per worker (1985)')\n",
    "ax.set_title('Basic scatterplot of GDP 1985 vs GDP 1960')\n",
    "ax.annotate('Who is that?!', \n",
    "            xy=(74912.5,25014.4), \n",
    "            xytext= (61512.9,23551.3),\n",
    "            arrowprops= dict(facecolor='black', shrink = 0.05))\n",
    "\n",
    "\n",
    "plt.show()"
   ]
  },
  {
   "cell_type": "markdown",
   "metadata": {},
   "source": [
    "- Here is an example of a simple bar chart for average population growth by continent\n",
    "- First we have to group our data by continent using the $.groupby()$ command"
   ]
  },
  {
   "cell_type": "code",
   "execution_count": 21,
   "metadata": {
    "collapsed": false
   },
   "outputs": [],
   "source": [
    "grouped = mrw.groupby('continent')\n",
    "mean_popgrowth= grouped.popgrowth.mean()\n",
    "\n",
    "continent = ('Africa', 'Asia', 'Europe', 'N. America', 'S. America', 'Oceania')\n",
    "y_position = np.arange(len(continent))\n",
    "\n",
    "fig = plt.figure()\n",
    "\n",
    "plt.barh(y_position, mean_popgrowth, align = 'center')\n",
    "plt.yticks(y_position, continent)\n",
    "plt.xlabel('Mean Population Growth')\n",
    "\n",
    "plt.show()\n"
   ]
  },
  {
   "cell_type": "markdown",
   "metadata": {},
   "source": [
    "- Here are some extremely useful references:\n",
    "- http://www.labri.fr/perso/nrougier/teaching/matplotlib/#regular-plots\n",
    "- http://kestrel.nmt.edu/~raymond/software/python_notes/paper004.html\n",
    "- http://matplotlib.org/index.html    "
   ]
  },
  {
   "cell_type": "markdown",
   "metadata": {},
   "source": [
    "- I'll stop here, but keep in mind that matplotlib is well equiped to produce 3D figures as well as annimated figures, if you'd like to know more send me an email and we can discuss\n",
    "- There are unlimited options!"
   ]
  },
  {
   "cell_type": "markdown",
   "metadata": {},
   "source": [
    "Practice Makes Perfect!\n",
    "---\n",
    "Thank you!\n",
    "---"
   ]
  },
  {
   "cell_type": "code",
   "execution_count": null,
   "metadata": {
    "collapsed": true
   },
   "outputs": [],
   "source": []
  }
 ],
 "metadata": {
  "kernelspec": {
   "display_name": "Python 3",
   "language": "python",
   "name": "python3"
  },
  "language_info": {
   "codemirror_mode": {
    "name": "ipython",
    "version": 3
   },
   "file_extension": ".py",
   "mimetype": "text/x-python",
   "name": "python",
   "nbconvert_exporter": "python",
   "pygments_lexer": "ipython3",
   "version": "3.4.3"
  }
 },
 "nbformat": 4,
 "nbformat_minor": 0
}
